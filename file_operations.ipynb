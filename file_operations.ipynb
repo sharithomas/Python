{
  "nbformat": 4,
  "nbformat_minor": 0,
  "metadata": {
    "colab": {
      "provenance": [],
      "authorship_tag": "ABX9TyNgpdxmnedwFcf7g7rIjlkD",
      "include_colab_link": true
    },
    "kernelspec": {
      "name": "python3",
      "display_name": "Python 3"
    },
    "language_info": {
      "name": "python"
    }
  },
  "cells": [
    {
      "cell_type": "markdown",
      "metadata": {
        "id": "view-in-github",
        "colab_type": "text"
      },
      "source": [
        "<a href=\"https://colab.research.google.com/github/sharithomas/Python/blob/main/file_operations.ipynb\" target=\"_parent\"><img src=\"https://colab.research.google.com/assets/colab-badge.svg\" alt=\"Open In Colab\"/></a>"
      ]
    },
    {
      "cell_type": "markdown",
      "source": [
        "**File operations**\n",
        "\n",
        "'r'\tThis is the default mode. It Opens file for reading.\n",
        "\n",
        "'w'\tThis Mode Opens file for writing.\n",
        "\n",
        "'w+'   this mode for read and write.If file does not exist, it creates a new file.If file exists it truncates the file.\n",
        "\n",
        "'x'\tCreates a new file. If file already exists, the operation fails.\n",
        "\n",
        "'a'\tOpen file in append mode.If file does not exist, it creates a new file.\n",
        "\n",
        "'t'\tThis is the default mode. It opens in text mode.\n",
        "\n",
        "'b'\tThis opens in binary mode.\n",
        "\n",
        "'+'\tThis will open a file for reading and writing (updating)\n"
      ],
      "metadata": {
        "id": "dYVbgnbCkxVC"
      }
    },
    {
      "cell_type": "code",
      "execution_count": 1,
      "metadata": {
        "colab": {
          "base_uri": "https://localhost:8080/",
          "height": 35
        },
        "id": "v8S6jDIXkpVj",
        "outputId": "2e5f969c-d6f7-4e78-8638-b23b91a1f51e"
      },
      "outputs": [
        {
          "output_type": "execute_result",
          "data": {
            "text/plain": [
              "'/content'"
            ],
            "application/vnd.google.colaboratory.intrinsic+json": {
              "type": "string"
            }
          },
          "metadata": {},
          "execution_count": 1
        }
      ],
      "source": [
        "#pwd # shows current directory"
      ]
    },
    {
      "cell_type": "code",
      "source": [
        "#Reading files\n",
        "\n",
        "test_file = open('/content/first.txt','r')\n",
        "test_file.seek(0)\n",
        "test_file.read()\n",
        "#test_file.write('This is a new line was entered in read mode ')\n",
        "test_file.close()"
      ],
      "metadata": {
        "id": "2wsiVi7vpvaN"
      },
      "execution_count": 26,
      "outputs": []
    },
    {
      "cell_type": "code",
      "source": [
        "#Writing to a File\n",
        "test_file = open('first.txt','w')\n",
        "test_file.write('This is a new line was entered in read mode ')\n",
        "test_file.close()\n"
      ],
      "metadata": {
        "id": "vAZPfcQqsQKb"
      },
      "execution_count": 27,
      "outputs": []
    },
    {
      "cell_type": "code",
      "source": [
        "#Reading files\n",
        "\n",
        "test_file = open('first.txt','r')\n",
        "test_file.seek(0)\n",
        "test_file.read()"
      ],
      "metadata": {
        "colab": {
          "base_uri": "https://localhost:8080/",
          "height": 35
        },
        "id": "T3OF4Yu42S-U",
        "outputId": "15640ffa-3760-4922-cc38-d88938c67e93"
      },
      "execution_count": 28,
      "outputs": [
        {
          "output_type": "execute_result",
          "data": {
            "text/plain": [
              "'This is a new line was entered in read mode '"
            ],
            "application/vnd.google.colaboratory.intrinsic+json": {
              "type": "string"
            }
          },
          "metadata": {},
          "execution_count": 28
        }
      ]
    },
    {
      "cell_type": "code",
      "source": [
        "#Reading & Writing to a File\n",
        "\n",
        "test_file = open('first.txt','w+')\n",
        "test_file.seek(0)\n",
        "test_file.read()\n",
        "\n",
        "test_file.write('This is a second line entered in write mode')\n",
        "test_file.read()\n",
        "test_file.seek(0)\n",
        "test_file.read()\n",
        "\n",
        "test_file.close()"
      ],
      "metadata": {
        "id": "S0Nypld3sdzR"
      },
      "execution_count": 29,
      "outputs": []
    },
    {
      "cell_type": "code",
      "source": [
        "#Reading, Writing Appending to a File\n",
        "\n",
        "test_file = open('first.txt','a+')\n",
        "test_file.mode\n",
        "test_file.seek(0)\n",
        "test_file.read()"
      ],
      "metadata": {
        "colab": {
          "base_uri": "https://localhost:8080/",
          "height": 35
        },
        "id": "JiUERdqr2o1f",
        "outputId": "15667eb6-8c9e-441e-9b88-af6ec560009c"
      },
      "execution_count": 30,
      "outputs": [
        {
          "output_type": "execute_result",
          "data": {
            "text/plain": [
              "'This is a second line entered in write mode'"
            ],
            "application/vnd.google.colaboratory.intrinsic+json": {
              "type": "string"
            }
          },
          "metadata": {},
          "execution_count": 30
        }
      ]
    },
    {
      "cell_type": "code",
      "source": [
        "with open(\"first.txt\",\"w+\") as f:\n",
        "    data = f.read()\n",
        "    f.write(\"Hello World!!!\")\n",
        "    f.seek(0)\n",
        "    data1 = f.read()\n",
        ""
      ],
      "metadata": {
        "id": "0xLsW8r62yM-"
      },
      "execution_count": 34,
      "outputs": []
    },
    {
      "cell_type": "code",
      "source": [
        "data"
      ],
      "metadata": {
        "colab": {
          "base_uri": "https://localhost:8080/",
          "height": 35
        },
        "id": "xB4pQ1Yb3Fss",
        "outputId": "9234230d-5e3e-49e3-afe8-c5d20aacd065"
      },
      "execution_count": 35,
      "outputs": [
        {
          "output_type": "execute_result",
          "data": {
            "text/plain": [
              "''"
            ],
            "application/vnd.google.colaboratory.intrinsic+json": {
              "type": "string"
            }
          },
          "metadata": {},
          "execution_count": 35
        }
      ]
    },
    {
      "cell_type": "code",
      "source": [
        "data1"
      ],
      "metadata": {
        "colab": {
          "base_uri": "https://localhost:8080/",
          "height": 35
        },
        "id": "jfEwKlGn3Ia6",
        "outputId": "87c6182c-95bb-44e3-96f1-2da71fbe1069"
      },
      "execution_count": 36,
      "outputs": [
        {
          "output_type": "execute_result",
          "data": {
            "text/plain": [
              "'Hello World!!!'"
            ],
            "application/vnd.google.colaboratory.intrinsic+json": {
              "type": "string"
            }
          },
          "metadata": {},
          "execution_count": 36
        }
      ]
    },
    {
      "cell_type": "code",
      "source": [
        "with open(\"first.txt\",\"a+\") as f:\n",
        "    #f.seek(0)\n",
        "    data = f.read()\n",
        "    f.write(\"\\nHello World!!!\")\n",
        "    f.seek(0)\n",
        "    data1 = f.readlines()"
      ],
      "metadata": {
        "id": "qrjY-Lxq3Pwr"
      },
      "execution_count": 37,
      "outputs": []
    },
    {
      "cell_type": "code",
      "source": [
        "data1"
      ],
      "metadata": {
        "colab": {
          "base_uri": "https://localhost:8080/"
        },
        "id": "VwFi7G5p3SW7",
        "outputId": "baf55762-c584-43e5-80d7-53feb5240edf"
      },
      "execution_count": 38,
      "outputs": [
        {
          "output_type": "execute_result",
          "data": {
            "text/plain": [
              "['Hello World!!!\\n', 'Hello World!!!']"
            ]
          },
          "metadata": {},
          "execution_count": 38
        }
      ]
    },
    {
      "cell_type": "code",
      "source": [
        "type(data1)"
      ],
      "metadata": {
        "colab": {
          "base_uri": "https://localhost:8080/"
        },
        "id": "nO6grDev3X2y",
        "outputId": "20772750-cb11-4353-b57a-10a8d2b4efdd"
      },
      "execution_count": 39,
      "outputs": [
        {
          "output_type": "execute_result",
          "data": {
            "text/plain": [
              "list"
            ]
          },
          "metadata": {},
          "execution_count": 39
        }
      ]
    }
  ]
}