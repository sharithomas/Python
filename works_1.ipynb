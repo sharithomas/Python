{
  "nbformat": 4,
  "nbformat_minor": 0,
  "metadata": {
    "colab": {
      "provenance": [],
      "authorship_tag": "ABX9TyNur8CCU7e2gaWb51OizbeA",
      "include_colab_link": true
    },
    "kernelspec": {
      "name": "python3",
      "display_name": "Python 3"
    },
    "language_info": {
      "name": "python"
    }
  },
  "cells": [
    {
      "cell_type": "markdown",
      "metadata": {
        "id": "view-in-github",
        "colab_type": "text"
      },
      "source": [
        "<a href=\"https://colab.research.google.com/github/sharithomas/Python/blob/main/works_1.ipynb\" target=\"_parent\"><img src=\"https://colab.research.google.com/assets/colab-badge.svg\" alt=\"Open In Colab\"/></a>"
      ]
    },
    {
      "cell_type": "markdown",
      "source": [],
      "metadata": {
        "id": "qpKxrE1OInTz"
      }
    },
    {
      "cell_type": "markdown",
      "source": [
        "**Mini Project – CLI To-Do List App**"
      ],
      "metadata": {
        "id": "9SbeMuVK26wZ"
      }
    },
    {
      "cell_type": "markdown",
      "source": [
        "#A simple Command-Line To-Do List where users can:\n",
        "\n",
        "- Add tasks\n",
        "\n",
        "- View tasks\n",
        "\n",
        "- Remove tasks\n",
        "\n",
        "- Exit the app safely"
      ],
      "metadata": {
        "id": "yqnAYBS13LO5"
      }
    },
    {
      "cell_type": "code",
      "source": [
        "from logging import exception\n",
        "to_do_list=[]\n",
        "\n",
        "def show_menu():\n",
        "    print(\"\\nTo_Do List Options:\")\n",
        "    print(\"1. View Tasks\")\n",
        "    print(\"2. Add Tasks\")\n",
        "    print(\"3. Remove Tasks\")\n",
        "    print(\"4. Exit\")\n",
        "\n",
        "def view_tasks():\n",
        "    if not to_do_list:\n",
        "        print(\"No task yet.\")\n",
        "    else:\n",
        "        print(\"Your tasks:\")\n",
        "        for idx,task in enumerate(to_do_list,start=1):\n",
        "            print(f\"{idx} . {task}\")\n",
        "\n",
        "def add_task():\n",
        "    task=input(\"Enter Task:\")\n",
        "    to_do_list.append(task)\n",
        "    print(\"Your task added.\")\n",
        "\n",
        "def remove_task():\n",
        "    view_tasks()\n",
        "    try:\n",
        "       index= int(input(\"Enter the task number to be removed\"))-1\n",
        "       removed= to_do_list.pop(index)\n",
        "       print(f\"Removed: {removed}\")\n",
        "\n",
        "    except(ValueError,IndexError):\n",
        "        print(\"Invalid task number\")\n",
        "\n",
        "\n",
        "while True:\n",
        "    show_menu()\n",
        "    choice=input(\"Enter an option(1-4):\")\n",
        "    if choice==\"1\":\n",
        "        view_tasks()\n",
        "    elif choice==\"2\":\n",
        "        add_task()\n",
        "    elif choice==\"3\":\n",
        "        remove_task()\n",
        "    elif choice==\"4\":\n",
        "        print(\"Good Bye!\")\n",
        "        break\n",
        "    else:\n",
        "        print(\"Invalid option. Please choose 1-4.\")"
      ],
      "metadata": {
        "colab": {
          "base_uri": "https://localhost:8080/"
        },
        "id": "1Lm5a2515DQk",
        "outputId": "fafe58a2-2569-4f68-f52f-3b9e66d6a5d0"
      },
      "execution_count": 5,
      "outputs": [
        {
          "output_type": "stream",
          "name": "stdout",
          "text": [
            "\n",
            "To_Do List Options:\n",
            "1. View Tasks\n",
            "2. Add Tasks\n",
            "3. Remove Tasks\n",
            "4. Exit\n",
            "Enter an option(1-4):1\n",
            "No task yet.\n",
            "\n",
            "To_Do List Options:\n",
            "1. View Tasks\n",
            "2. Add Tasks\n",
            "3. Remove Tasks\n",
            "4. Exit\n",
            "Enter an option(1-4):2\n",
            "Enter Task:tessa\n",
            "Your task added.\n",
            "\n",
            "To_Do List Options:\n",
            "1. View Tasks\n",
            "2. Add Tasks\n",
            "3. Remove Tasks\n",
            "4. Exit\n",
            "Enter an option(1-4):2\n",
            "Enter Task:thoma\n",
            "Your task added.\n",
            "\n",
            "To_Do List Options:\n",
            "1. View Tasks\n",
            "2. Add Tasks\n",
            "3. Remove Tasks\n",
            "4. Exit\n",
            "Enter an option(1-4):2\n",
            "Enter Task:shari\n",
            "Your task added.\n",
            "\n",
            "To_Do List Options:\n",
            "1. View Tasks\n",
            "2. Add Tasks\n",
            "3. Remove Tasks\n",
            "4. Exit\n",
            "Enter an option(1-4):2\n",
            "Enter Task:luke\n",
            "Your task added.\n",
            "\n",
            "To_Do List Options:\n",
            "1. View Tasks\n",
            "2. Add Tasks\n",
            "3. Remove Tasks\n",
            "4. Exit\n",
            "Enter an option(1-4):1\n",
            "Your tasks:\n",
            "1 . tessa\n",
            "2 . thoma\n",
            "3 . shari\n",
            "4 . luke\n",
            "\n",
            "To_Do List Options:\n",
            "1. View Tasks\n",
            "2. Add Tasks\n",
            "3. Remove Tasks\n",
            "4. Exit\n",
            "Enter an option(1-4):3\n",
            "Your tasks:\n",
            "1 . tessa\n",
            "2 . thoma\n",
            "3 . shari\n",
            "4 . luke\n",
            "Enter the task number to be removed3\n",
            "Removed: shari\n",
            "\n",
            "To_Do List Options:\n",
            "1. View Tasks\n",
            "2. Add Tasks\n",
            "3. Remove Tasks\n",
            "4. Exit\n",
            "Enter an option(1-4):1\n",
            "Your tasks:\n",
            "1 . tessa\n",
            "2 . thoma\n",
            "3 . luke\n",
            "\n",
            "To_Do List Options:\n",
            "1. View Tasks\n",
            "2. Add Tasks\n",
            "3. Remove Tasks\n",
            "4. Exit\n",
            "Enter an option(1-4):4\n",
            "Good Bye!\n"
          ]
        }
      ]
    }
  ]
}