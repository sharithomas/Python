{
  "nbformat": 4,
  "nbformat_minor": 0,
  "metadata": {
    "colab": {
      "provenance": [],
      "authorship_tag": "ABX9TyMJ+ydewOWGMn4vBME8hbIi",
      "include_colab_link": true
    },
    "kernelspec": {
      "name": "python3",
      "display_name": "Python 3"
    },
    "language_info": {
      "name": "python"
    }
  },
  "cells": [
    {
      "cell_type": "markdown",
      "metadata": {
        "id": "view-in-github",
        "colab_type": "text"
      },
      "source": [
        "<a href=\"https://colab.research.google.com/github/sharithomas/Python/blob/main/decorators.ipynb\" target=\"_parent\"><img src=\"https://colab.research.google.com/assets/colab-badge.svg\" alt=\"Open In Colab\"/></a>"
      ]
    },
    {
      "cell_type": "markdown",
      "source": [
        "**A decorator** is a function that takes another function as input and returns a new function with added functionality.\n",
        "'''Decorators allow us to wrap another function in order to extend the behaviour of the wrapped function,\n",
        " without permanently modifying it. '''\n",
        "  \n",
        "\n",
        "✅ Basic Structure:\n"
      ],
      "metadata": {
        "id": "kqW_Mkc-PTk4"
      }
    },
    {
      "cell_type": "code",
      "execution_count": 1,
      "metadata": {
        "colab": {
          "base_uri": "https://localhost:8080/"
        },
        "id": "Jq1w1oMaPRRI",
        "outputId": "def3d9d4-1e1d-42e1-dd23-2d58f1c18e75"
      },
      "outputs": [
        {
          "output_type": "stream",
          "name": "stdout",
          "text": [
            "Before the original function runs\n",
            "Hello!\n",
            "After the original function runs\n"
          ]
        }
      ],
      "source": [
        "def decorator_function(original_function):\n",
        "    def wrapper_function():\n",
        "        print(\"Before the original function runs\")\n",
        "        original_function()\n",
        "        print(\"After the original function runs\")\n",
        "    return wrapper_function\n",
        "\n",
        "    #Example Usage:\n",
        "def greet():\n",
        "    print(\"Hello!\")\n",
        "decorated = decorator_function(greet)\n",
        "decorated()\n"
      ]
    },
    {
      "cell_type": "markdown",
      "source": [
        "✅ Using @decorator Syntax (Shortcut)\n",
        "\n",
        "\n"
      ],
      "metadata": {
        "id": "32QQd83XP3bL"
      }
    },
    {
      "cell_type": "code",
      "source": [
        "@decorator_function\n",
        "def greet():\n",
        "    print(\"Hello!\")\n",
        "\n",
        "greet()"
      ],
      "metadata": {
        "colab": {
          "base_uri": "https://localhost:8080/"
        },
        "id": "mg5bH-MQQIu7",
        "outputId": "2e5ce61f-997a-4238-d8a0-62d7c6ec0d8e"
      },
      "execution_count": 2,
      "outputs": [
        {
          "output_type": "stream",
          "name": "stdout",
          "text": [
            "Before the original function runs\n",
            "Hello!\n",
            "After the original function runs\n"
          ]
        }
      ]
    },
    {
      "cell_type": "code",
      "source": [
        "#This is same as\n",
        "greet = decorator_function(greet)"
      ],
      "metadata": {
        "id": "eSEsFH3JQpYt"
      },
      "execution_count": 3,
      "outputs": []
    },
    {
      "cell_type": "markdown",
      "source": [
        "***📌 Use Cases of Decorators***\n",
        "Logging\n",
        "\n",
        "Authentication\n",
        "\n",
        "Measuring execution time\n",
        "\n",
        "Caching\n",
        "\n",
        "Access control"
      ],
      "metadata": {
        "id": "K7ISRlSEQE6K"
      }
    },
    {
      "cell_type": "markdown",
      "source": [],
      "metadata": {
        "id": "GT8d_WKgRFRl"
      }
    }
  ]
}