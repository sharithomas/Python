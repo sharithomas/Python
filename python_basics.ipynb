{
  "nbformat": 4,
  "nbformat_minor": 0,
  "metadata": {
    "colab": {
      "provenance": [],
      "authorship_tag": "ABX9TyM+qzMgFQBwyCF8PVlydB1C",
      "include_colab_link": true
    },
    "kernelspec": {
      "name": "python3",
      "display_name": "Python 3"
    },
    "language_info": {
      "name": "python"
    }
  },
  "cells": [
    {
      "cell_type": "markdown",
      "metadata": {
        "id": "view-in-github",
        "colab_type": "text"
      },
      "source": [
        "<a href=\"https://colab.research.google.com/github/sharithomas/Python/blob/main/python_basics.ipynb\" target=\"_parent\"><img src=\"https://colab.research.google.com/assets/colab-badge.svg\" alt=\"Open In Colab\"/></a>"
      ]
    },
    {
      "cell_type": "markdown",
      "source": [
        "\n",
        "print() – Outputs text to the screen.\n",
        "Comments – Use # for single-line and triple quotes \"\"\" for multi-line comments.\n",
        "\n"
      ],
      "metadata": {
        "id": "FfnuddCHiDbd"
      }
    },
    {
      "cell_type": "code",
      "execution_count": null,
      "metadata": {
        "colab": {
          "base_uri": "https://localhost:8080/"
        },
        "id": "4XMe9Suxb-E3",
        "outputId": "536c4cae-b555-4eb4-ac24-d1f23d2e033c"
      },
      "outputs": [
        {
          "output_type": "stream",
          "name": "stdout",
          "text": [
            "Hello\n"
          ]
        }
      ],
      "source": [
        "print(\"Hello\")  # This will print Hello"
      ]
    },
    {
      "cell_type": "markdown",
      "source": [
        "**1.\tVariables & Data Types**\n",
        "\n",
        "What is a variable?\n",
        "\n",
        "Think of a variable as a label on a container that holds some data. You create a variable by giving it a name and putting a value inside.\n",
        "In Python, it looks like this:\n",
        "\n",
        "name = \"Alex\"\n",
        "age = 25\n",
        "height = 5.9\n",
        "is_student = True\n",
        "\n",
        "•\tname holds text (called a string) — notice the quotes!\n",
        "\n",
        "•\tage holds a whole number (integer)\n",
        "\n",
        "•\theight holds a decimal number (float)\n",
        "\n",
        "•\tis_student holds a True/False value (boolean)\n",
        "\n",
        "You can check a variable’s type using type():\n",
        "print(type(name))    # <class 'str'>\n",
        "print(type(age))     # <class 'int'>\n",
        "\n",
        "Why use variables?\n",
        "They let you store information so your program can remember it and use it later — like a player's score or your name.\n",
        "Valid Variable Names\n",
        "Python has some rules for naming variables:\n",
        "\n",
        "✅ Must start with a letter or underscore\n",
        "✅ Can contain letters, numbers, and underscores\n",
        "❌ Cannot start with a number\n",
        "❌ Cannot use Python’s built-in keywords like if, while, class, etc.\n",
        "\n",
        "Examples:\n",
        "user_name = \"Amit\"   # valid\n",
        "_user2 = \"Riya\"      # valid\n",
        "2nd_user = \"Error!\"  # ❌ Invalid: starts with number\n"
      ],
      "metadata": {
        "id": "sHC3DFB4ip2Z"
      }
    },
    {
      "cell_type": "code",
      "source": [
        "#We’ll write a simple program that asks for your name, age, and favorite hobby, then prints a fun personalized message.\n",
        "\n",
        "\n",
        "# Ask the user for their name and save it in a variable\n",
        "name = input(\"What's your name? \")\n",
        "\n",
        "# Ask for their age and save it\n",
        "age = input(\"How old are you? \")\n",
        "\n",
        "# Ask for their favorite hobby and save it\n",
        "hobby = input(\"What's your favorite hobby? \")\n",
        "\n",
        "# Print a personalized message using the info collected\n",
        "print(f\"Hey {name}! So you’re {age} years old and love {hobby}. That’s awesome!\")\n"
      ],
      "metadata": {
        "colab": {
          "base_uri": "https://localhost:8080/"
        },
        "id": "9Do_xFo3i4R0",
        "outputId": "5cb43c18-7adc-44f2-c137-3af0ebdd4d53"
      },
      "execution_count": null,
      "outputs": [
        {
          "output_type": "stream",
          "name": "stdout",
          "text": [
            "What's your name? Shari\n",
            "How old are you? 35\n",
            "What's your favorite hobby? Reading\n",
            "Hey Shari! So you’re 35 years old and love Reading. That’s awesome!\n"
          ]
        }
      ]
    },
    {
      "cell_type": "markdown",
      "source": [
        "**2.\tOperators in Python**\n",
        "\n",
        "Operators are special symbols or keywords that perform operations on variables and values.\n",
        "\n",
        "Types of Operators in Python:\n",
        "1. Arithmetic Operators\n",
        "Used for basic math:\n",
        "+ (add), - (subtract), * (multiply), / (divide), // (floor divide), % (modulus), ** (power)\n"
      ],
      "metadata": {
        "id": "Uj6ZrcTljV4M"
      }
    },
    {
      "cell_type": "code",
      "source": [
        "a = 10\n",
        "b = 3\n",
        "print(a + b)   # 13\n",
        "print(a ** b)  # 1000\n"
      ],
      "metadata": {
        "colab": {
          "base_uri": "https://localhost:8080/"
        },
        "id": "xg0I-3VPjvem",
        "outputId": "6fafe890-2037-4bc8-85c5-e7cd5628672c"
      },
      "execution_count": null,
      "outputs": [
        {
          "output_type": "stream",
          "name": "stdout",
          "text": [
            "13\n",
            "1000\n"
          ]
        }
      ]
    },
    {
      "cell_type": "markdown",
      "source": [
        "2. Comparison Operators\n",
        "Used to compare two values:\n",
        "==, !=, >, <, >=, <=\n",
        "\n"
      ],
      "metadata": {
        "id": "buy_bKSmj_VP"
      }
    },
    {
      "cell_type": "code",
      "source": [
        "x = 5\n",
        "print(x == 5)  # True\n",
        "print(x != 3)  # True"
      ],
      "metadata": {
        "colab": {
          "base_uri": "https://localhost:8080/"
        },
        "id": "eBiM28n1kBb1",
        "outputId": "a7e8c779-df05-41e9-a832-40cc6a6fe533"
      },
      "execution_count": null,
      "outputs": [
        {
          "output_type": "stream",
          "name": "stdout",
          "text": [
            "True\n",
            "True\n"
          ]
        }
      ]
    },
    {
      "cell_type": "markdown",
      "source": [
        "3. Logical Operators\n",
        "Used to combine conditional statements:\n",
        "and, or, not\n"
      ],
      "metadata": {
        "id": "JHmNdEkbkLOO"
      }
    },
    {
      "cell_type": "code",
      "source": [
        "age = 20\n",
        "print(age > 18 and age < 25)  # True\n"
      ],
      "metadata": {
        "colab": {
          "base_uri": "https://localhost:8080/"
        },
        "id": "KP1d9DmFkNUe",
        "outputId": "c8d87a4d-4ef8-4a9f-8a4a-4e309f0bb4a9"
      },
      "execution_count": null,
      "outputs": [
        {
          "output_type": "stream",
          "name": "stdout",
          "text": [
            "True\n"
          ]
        }
      ]
    },
    {
      "cell_type": "markdown",
      "source": [
        "4. Assignment Operators\n",
        "Used to assign values to variables:\n",
        "=, +=, -=, *=, /=, etc.\n"
      ],
      "metadata": {
        "id": "Uuzz5G1mkZO0"
      }
    },
    {
      "cell_type": "code",
      "source": [
        "score = 10\n",
        "score += 5   # score is now 15\n"
      ],
      "metadata": {
        "id": "hTh0QZq6kVaN"
      },
      "execution_count": null,
      "outputs": []
    },
    {
      "cell_type": "code",
      "source": [
        "#Mini Project: Build a Simple Calculator\n",
        "num1=float(input(\"enter first number: \"))\n",
        "num2=float(input(\"enter second number \"))\n",
        "op=input(\"enter the operation: \" )\n",
        "if op==\"+\":\n",
        "    a=num1+num2\n",
        "    print(f\"sum of {num1} and {num2} is:{a }\")\n",
        "elif op==\"-\":\n",
        "    b=num1-num2\n",
        "    print(f\"substraction of {num1} and {num2} is:{num1-num2}\")\n",
        "elif op==\"*\":\n",
        "    c=num1*num2\n",
        "    print(f\"multipication of {num1} and {num2} is:{num1*num2}\")\n",
        "elif op==\"/\":\n",
        "    d=num1/num2\n",
        "    print(f\"division of {num1} and {num2} is:{num1/num2}\")\n",
        "else:\n",
        "    print(\"invalid operation\")"
      ],
      "metadata": {
        "colab": {
          "base_uri": "https://localhost:8080/"
        },
        "id": "-ZjpinT6kg_r",
        "outputId": "9081ed2a-80c4-49e5-e372-77e76d0d0fdd"
      },
      "execution_count": null,
      "outputs": [
        {
          "output_type": "stream",
          "name": "stdout",
          "text": [
            "enter first number: 4\n",
            "enter second number 5\n",
            "enter the operation: +\n",
            "sum of 4.0 and 5.0 is:9.0\n"
          ]
        }
      ]
    },
    {
      "cell_type": "markdown",
      "source": [
        "**3.\tStrings & String Methods**\n",
        "\n",
        "A string is a sequence of characters inside quotes. You can use:\n",
        "name = \"Alice\"\n",
        "greeting = 'Hello!'\n",
        "paragraph = \"\"\"This is\n",
        "a multiline string.\"\"\"\n",
        "\n",
        "👉 Strings are immutable — once created, they can't be changed directly.\n",
        "\n",
        "✨ Common String Methods\n",
        "Here are some useful methods you’ll use all the time:\n",
        "\n",
        "•\tlower() → makes everything lowercase\n",
        "\n",
        "•\tupper() → makes everything uppercase\n",
        "\n",
        "•\tstrip() → removes spaces from start and end\n",
        "\n",
        "•\treplace(\"old\", \"new\") → replaces parts of a string\n",
        "\n",
        "•\tsplit() → splits text into a list of words\n",
        "\n",
        "\n",
        "•\tcount(\"word\") → counts how many times something appears\n",
        "•\tfind(\"word\") → finds the position of a word\n",
        "•\tstartswith(\"Hello\") → checks how a string begins\n",
        "•\tendswith(\"world\") → checks how a string ends\n"
      ],
      "metadata": {
        "id": "cdmrIRrfk6jN"
      }
    },
    {
      "cell_type": "code",
      "source": [
        "msg = \"  Python is Awesome!  \"\n",
        "print(msg.lower())        # python is awesome!\n",
        "print(msg.strip())        # Python is Awesome!\n",
        "print(msg.replace(\"Awesome\", \"Powerful\"))  # Python is Powerful!\n",
        "print(msg.split())        # ['Python', 'is', 'Awesome!']\n"
      ],
      "metadata": {
        "colab": {
          "base_uri": "https://localhost:8080/"
        },
        "id": "TOxQZ4dJk-YD",
        "outputId": "a6146b15-0425-4ec3-9ea8-3bcf0274ba74"
      },
      "execution_count": null,
      "outputs": [
        {
          "output_type": "stream",
          "name": "stdout",
          "text": [
            "  python is awesome!  \n",
            "Python is Awesome!\n",
            "  Python is Powerful!  \n",
            "['Python', 'is', 'Awesome!']\n"
          ]
        }
      ]
    },
    {
      "cell_type": "code",
      "source": [
        "# Word Counter\n",
        "text = input(\"Enter a sentence: \")\n",
        "words = text.split()\n",
        "print(\"Word count:\", len(words))\n"
      ],
      "metadata": {
        "colab": {
          "base_uri": "https://localhost:8080/"
        },
        "id": "BS0jTS2GlKC7",
        "outputId": "458dc770-c74e-4270-96b3-cfebefe9e27b"
      },
      "execution_count": null,
      "outputs": [
        {
          "output_type": "stream",
          "name": "stdout",
          "text": [
            "Enter a sentence: hi i am happy\n",
            "Word count: 4\n"
          ]
        }
      ]
    },
    {
      "cell_type": "code",
      "source": [
        "# Palindrome Checker\n",
        "text = input(\"Enter a word: \")\n",
        "if text == text[::-1]:\n",
        "    print(\"Palindrome!\")\n",
        "else:\n",
        "    print(\"Not a palindrome.\")\n"
      ],
      "metadata": {
        "colab": {
          "base_uri": "https://localhost:8080/"
        },
        "id": "a1nQ1KtjlWII",
        "outputId": "1bde5b85-203b-451c-d1c6-e2189a0f1a5d"
      },
      "execution_count": null,
      "outputs": [
        {
          "output_type": "stream",
          "name": "stdout",
          "text": [
            "Enter a word: racecar\n",
            "Palindrome!\n"
          ]
        }
      ]
    },
    {
      "cell_type": "markdown",
      "source": [
        "**4.\tLists & Tuples**\n",
        "\n",
        "🔹 What is a List?\n",
        "A list is a mutable (changeable) collection of items in a specific order.\n",
        "\n",
        "Syntax:\n",
        "fruits = [\"apple\", \"banana\", \"cherry\"]\n"
      ],
      "metadata": {
        "id": "B6Eg5lc7ljsP"
      }
    },
    {
      "cell_type": "code",
      "source": [
        "fruits = [\"apple\", \"banana\", \"cherry\"]\n",
        "print(fruits[0])    # Output: apple\n",
        "fruits.append(\"mango\")\n",
        "\n",
        "print(fruits)        # Output: ['apple', 'banana', 'cherry', 'mango']\n"
      ],
      "metadata": {
        "colab": {
          "base_uri": "https://localhost:8080/"
        },
        "id": "vF-aWv7Tlldp",
        "outputId": "cba2747d-d3c0-4d7c-dd83-b2a8fbc8c50e"
      },
      "execution_count": null,
      "outputs": [
        {
          "output_type": "stream",
          "name": "stdout",
          "text": [
            "apple\n",
            "['apple', 'banana', 'cherry', 'mango']\n"
          ]
        }
      ]
    },
    {
      "cell_type": "markdown",
      "source": [
        "✅ You can add, remove, or update elements in a list."
      ],
      "metadata": {
        "id": "phv1Sgzgl2pZ"
      }
    },
    {
      "cell_type": "code",
      "source": [
        "\n",
        "#list comprehension\n",
        "[i for i in [1,2,3,4,5,6,7,8,9,10] if i%2==0]\n",
        "[i*i for i in [1,2,3,4,5,6,7,8,9,10] if i%2==0]\n",
        "[i+1 for i in [1,2,3,4,5,6,7,8,9,10] if i%2==0]\n",
        "[\"even\" for i in [1,2,3,4,5,6,7,8,9,10] if i%2==0]\n",
        "[\"even\" if i%2==0 else \"odd\" for i in [1,2,3,4,5,6,7,8,9,10]]\n",
        "[1 if i%2==0 else 0 for i in [1,2,3,4,5,6,7,8,9,10]]\n",
        "[i*j for i in range(1,3) for j in range(11,13)]\n",
        "[i*j*k for i in range(1,3) for j in range(11,13) for k in range(21,23)]\n"
      ],
      "metadata": {
        "id": "Fzf0mDR_u2J6"
      },
      "execution_count": null,
      "outputs": []
    },
    {
      "cell_type": "markdown",
      "source": [
        "🔸 What is a Tuple?\n",
        "\n",
        "A tuple is similar to a list, but it's immutable (unchangeable once defined).\n",
        "\n",
        "Syntax:\n",
        "colors = (\"red\", \"green\", \"blue\")\n",
        "print(colors[1])     # Output: green\n",
        "\n",
        "🔒 You cannot modify, append, or remove elements from a tuple after creation.\n",
        "\n",
        "\n",
        "✅ Key Differences:\n",
        "Mutability:\n",
        "•\tList: Mutable — you can change, add, or remove elements after creation.\n",
        "•\tTuple: Immutable — once defined, you cannot change, add, or remove elements.\n",
        "Syntax:\n",
        "•\tList: Use square brackets → []\n",
        "my_list = [1, 2, 3]\n",
        "•\tTuple: Use round brackets → ()\n",
        "my_tuple = (1, 2, 3)\n",
        "\n",
        "Use Case:\n",
        "•\tList: Use when you need to modify the collection later.\n",
        "\n",
        "•\tTuple: Use when the data should remain constant or to ensure integrity.\n",
        "Performance:\n",
        "Tuple is slightly faster than List due to immutability and fixed size.\n"
      ],
      "metadata": {
        "id": "6vRpmK_Kl4Gm"
      }
    },
    {
      "cell_type": "code",
      "source": [
        "#packing and unpacking\n",
        "t1=(\"shari\",10000,'bangalore',29) #packing\n",
        "name,sal,city,pin=t1  # called unpacking, it is useful to access values if we know the exact\n",
        "                        #number of variables'''\n",
        "print(name)\n",
        "print(city)"
      ],
      "metadata": {
        "colab": {
          "base_uri": "https://localhost:8080/"
        },
        "id": "rTjn0pRizIL7",
        "outputId": "85484daa-c7c6-4219-8ab2-d1a0969caaf4"
      },
      "execution_count": null,
      "outputs": [
        {
          "output_type": "stream",
          "name": "stdout",
          "text": [
            "shari\n",
            "bangalore\n"
          ]
        }
      ]
    },
    {
      "cell_type": "code",
      "source": [
        "#Grocery List Manager\n",
        "\n",
        "\"\"\"Let’s build a simple grocery list app where you can:\n",
        "o\tAdd items\n",
        "o\tRemove items\n",
        "o\tDisplay all items \"\"\"\n",
        "\n",
        "grocery_list=[]\n",
        "\n",
        "while True:\n",
        "    print(\"\\n options: add \\ remove \\ display\\exit\")\n",
        "    action=input(\"What would you like to do?\")\n",
        "    if action==\"add\":\n",
        "        item=input(\"Enter item to add;\")\n",
        "        grocery_list.append(item)\n",
        "        print(f\"{item} added to the list\")\n",
        "    elif action==\"remove\":\n",
        "        item=input(\" enter itemk to remove\")\n",
        "        if item in grocery_list:\n",
        "            grocery_list.remove(item)\n",
        "            print(f\"{item} removed from the list\")\n",
        "        else:\n",
        "            print(\"item not found\")\n",
        "    elif action==\"display\":\n",
        "        for i in grocery_list:\n",
        "            print(\"-\",i)\n",
        "    elif action==\"exit\":\n",
        "        break\n",
        "    else:\n",
        "        print(\"Invalid option\")"
      ],
      "metadata": {
        "colab": {
          "base_uri": "https://localhost:8080/"
        },
        "id": "wdq0qcBSmF5h",
        "outputId": "44f9c0c5-edc5-4061-b041-914a666c9aa9"
      },
      "execution_count": null,
      "outputs": [
        {
          "name": "stdout",
          "output_type": "stream",
          "text": [
            "\n",
            " options: add \\ remove \\ display\\exit\n",
            "What would you lie to do?add\n",
            "Enter item to add;pen\n",
            "pen added to the list\n",
            "\n",
            " options: add \\ remove \\ display\\exit\n",
            "What would you lie to do?book\n",
            "Invalid option\n",
            "\n",
            " options: add \\ remove \\ display\\exit\n",
            "What would you lie to do?display\n",
            "- pen\n",
            "\n",
            " options: add \\ remove \\ display\\exit\n",
            "What would you lie to do?add\n",
            "Enter item to add;book\n",
            "book added to the list\n",
            "\n",
            " options: add \\ remove \\ display\\exit\n",
            "What would you lie to do?display\n",
            "- pen\n",
            "- book\n",
            "\n",
            " options: add \\ remove \\ display\\exit\n",
            "What would you lie to do?remove\n",
            " enter itemk to removepen\n",
            "pen removed from the list\n",
            "\n",
            " options: add \\ remove \\ display\\exit\n",
            "What would you lie to do?exit\n"
          ]
        }
      ]
    },
    {
      "cell_type": "markdown",
      "source": [
        "**5.\tDictionaries & Sets **\n",
        "\n",
        "🔹 What is a Dictionary in Python?\n",
        "\n",
        "A dictionary is an unordered, mutable collection that stores data in key-value pairs.\n",
        "\n",
        "🧠 Example:\n",
        "\n",
        "student = {\n",
        "    \"name\": \"Amit\",\n",
        "    \"age\": 21,\n",
        "    \"course\": \"Python\"\n",
        "}\n",
        "\n",
        "print(student[\"name\"])  # Output: Amit\n",
        "\n",
        "•\tKeys must be unique and immutable (like strings, numbers).\n",
        "•\tValues can be anything: strings, numbers, lists, or even other dictionaries.\n"
      ],
      "metadata": {
        "id": "3Pzs99tImruY"
      }
    },
    {
      "cell_type": "code",
      "source": [
        "#🧰 Common Dictionary Methods:\n",
        "student = {\n",
        "    \"name\": \"Amit\",\n",
        "    \"age\": 21,\n",
        "    \"course\": \"Python\"\n",
        "}"
      ],
      "metadata": {
        "id": "uRQ35Fogmu94"
      },
      "execution_count": null,
      "outputs": []
    },
    {
      "cell_type": "code",
      "source": [
        "student.get(\"age\")         # Returns 21\n",
        "student.keys()             # Returns all keys\n",
        "student.values()           # Returns all values\n",
        "student.items()            # Returns key-value pairs\n",
        "student[\"grade\"] = \"A+\"    # Adds a new key-value pair"
      ],
      "metadata": {
        "colab": {
          "base_uri": "https://localhost:8080/"
        },
        "id": "IV6NJiLTm1UF",
        "outputId": "f9415d8e-4c01-4b23-d16f-25655488bfdc"
      },
      "execution_count": null,
      "outputs": [
        {
          "output_type": "execute_result",
          "data": {
            "text/plain": [
              "21"
            ]
          },
          "metadata": {},
          "execution_count": 19
        }
      ]
    },
    {
      "cell_type": "code",
      "source": [
        "#dictionary comprehension\n",
        "for i in range(0,10):\n",
        "    print(i)\n",
        "\n",
        "for i in enumerate (range(10,20)):\n",
        "    print(i)\n",
        "\n",
        "for i,k in enumerate (range(10,20)):\n",
        "    print(i,k)\n",
        "\n",
        "{k:v for k,v in enumerate (range(10,20))}\n",
        "{k:v*10 for k,v in enumerate (range(10,20))}"
      ],
      "metadata": {
        "colab": {
          "base_uri": "https://localhost:8080/"
        },
        "id": "Q_nXFfnwyxIn",
        "outputId": "79c2cf60-8e00-48f5-bb18-0f4a497a99d9"
      },
      "execution_count": null,
      "outputs": [
        {
          "output_type": "stream",
          "name": "stdout",
          "text": [
            "0\n",
            "1\n",
            "2\n",
            "3\n",
            "4\n",
            "5\n",
            "6\n",
            "7\n",
            "8\n",
            "9\n",
            "(0, 10)\n",
            "(1, 11)\n",
            "(2, 12)\n",
            "(3, 13)\n",
            "(4, 14)\n",
            "(5, 15)\n",
            "(6, 16)\n",
            "(7, 17)\n",
            "(8, 18)\n",
            "(9, 19)\n",
            "0 10\n",
            "1 11\n",
            "2 12\n",
            "3 13\n",
            "4 14\n",
            "5 15\n",
            "6 16\n",
            "7 17\n",
            "8 18\n",
            "9 19\n"
          ]
        },
        {
          "output_type": "execute_result",
          "data": {
            "text/plain": [
              "{0: 100,\n",
              " 1: 110,\n",
              " 2: 120,\n",
              " 3: 130,\n",
              " 4: 140,\n",
              " 5: 150,\n",
              " 6: 160,\n",
              " 7: 170,\n",
              " 8: 180,\n",
              " 9: 190}"
            ]
          },
          "metadata": {},
          "execution_count": 25
        }
      ]
    },
    {
      "cell_type": "markdown",
      "source": [
        "**🔹 What is a Set in Python? **\n",
        "A set is an unordered collection of unique elements.\n",
        "🧠 Example :\n",
        "numbers = {1, 2, 3, 4, 4, 2}\n",
        "print(numbers)  # Output: {1, 2, 3, 4} — no duplicates\n",
        "•\tSets remove duplicates automatically.\n",
        "•\t Useful for membership checks, uniqueness, and set operations (union, intersection).\n",
        "\n"
      ],
      "metadata": {
        "id": "5Z6G1ZbrnMtM"
      }
    },
    {
      "cell_type": "code",
      "source": [
        "#✅ Real-Life Project: Contact Book using Dictionary\n",
        "contacts={}\n",
        "while True:\n",
        "\n",
        "     choice=int(input(\"Enter choice \\n 1. Add contact \\n 2. View all \\n 3. Search \\n 4. Delete \\n 5. Exit\"))\n",
        "     if choice==1:\n",
        "         name=input(\"Enter name: \")\n",
        "         phone=input(\"Enter contact: \")\n",
        "         contacts[name]=phone\n",
        "         print(f\"{name} added to the list \")\n",
        "     elif choice==2:\n",
        "         for name,no in contacts.items():\n",
        "             print(f\"{name}: {no}\")\n",
        "     elif choice==3:\n",
        "        name=input(\"enter the name to searchs\")\n",
        "        if name in contacts.keys():\n",
        "            print(f\"{name} : {contacts[name]}\")\n",
        "        else:\n",
        "            print(\"Item not found in the list\")\n",
        "     elif  choice==4:\n",
        "        name=input(\"enter the name to delete\")\n",
        "        if name in contacts.keys():\n",
        "            del contacts[name]\n",
        "            print(f\"{name} deleted from the list successfuly\")\n",
        "        else:\n",
        "            print(\"item not found in the list, enter a valid name\")\n",
        "     elif choice==5:\n",
        "         break\n",
        "     else:\n",
        "        print(\"Inavalid option\")"
      ],
      "metadata": {
        "colab": {
          "base_uri": "https://localhost:8080/",
          "height": 939
        },
        "id": "itZKqjlinN_O",
        "outputId": "0be44c5d-da18-4ebe-9b51-985a5d25b846"
      },
      "execution_count": null,
      "outputs": [
        {
          "name": "stdout",
          "output_type": "stream",
          "text": [
            "Enter choice \n",
            " 1. Add contact \n",
            " 2. View all \n",
            " 3. Search \n",
            " 4. Delete \n",
            " 5. Exit1\n",
            "Enter name: tessa\n",
            "Enter contact: 14122018\n",
            "tessa added to the list \n",
            "Enter choice \n",
            " 1. Add contact \n",
            " 2. View all \n",
            " 3. Search \n",
            " 4. Delete \n",
            " 5. Exit1\n",
            "Enter name: thomas\n",
            "Enter contact: 14052021\n",
            "thomas added to the list \n",
            "Enter choice \n",
            " 1. Add contact \n",
            " 2. View all \n",
            " 3. Search \n",
            " 4. Delete \n",
            " 5. Exit1\n",
            "Enter name: luke\n",
            "Enter contact: 14082023\n",
            "luke added to the list \n",
            "Enter choice \n",
            " 1. Add contact \n",
            " 2. View all \n",
            " 3. Search \n",
            " 4. Delete \n",
            " 5. Exit2\n",
            "tessa: 14122018\n",
            "thomas: 14052021\n",
            "luke: 14082023\n",
            "Enter choice \n",
            " 1. Add contact \n",
            " 2. View all \n",
            " 3. Search \n",
            " 4. Delete \n",
            " 5. Exit3\\\n"
          ]
        },
        {
          "output_type": "error",
          "ename": "ValueError",
          "evalue": "invalid literal for int() with base 10: '3\\\\'",
          "traceback": [
            "\u001b[0;31m---------------------------------------------------------------------------\u001b[0m",
            "\u001b[0;31mValueError\u001b[0m                                Traceback (most recent call last)",
            "\u001b[0;32m/tmp/ipython-input-20-2520067168.py\u001b[0m in \u001b[0;36m<cell line: 0>\u001b[0;34m()\u001b[0m\n\u001b[1;32m      3\u001b[0m \u001b[0;32mwhile\u001b[0m \u001b[0;32mTrue\u001b[0m\u001b[0;34m:\u001b[0m\u001b[0;34m\u001b[0m\u001b[0;34m\u001b[0m\u001b[0m\n\u001b[1;32m      4\u001b[0m \u001b[0;34m\u001b[0m\u001b[0m\n\u001b[0;32m----> 5\u001b[0;31m      \u001b[0mchoice\u001b[0m\u001b[0;34m=\u001b[0m\u001b[0mint\u001b[0m\u001b[0;34m(\u001b[0m\u001b[0minput\u001b[0m\u001b[0;34m(\u001b[0m\u001b[0;34m\"Enter choice \\n 1. Add contact \\n 2. View all \\n 3. Search \\n 4. Delete \\n 5. Exit\"\u001b[0m\u001b[0;34m)\u001b[0m\u001b[0;34m)\u001b[0m\u001b[0;34m\u001b[0m\u001b[0;34m\u001b[0m\u001b[0m\n\u001b[0m\u001b[1;32m      6\u001b[0m      \u001b[0;32mif\u001b[0m \u001b[0mchoice\u001b[0m\u001b[0;34m==\u001b[0m\u001b[0;36m1\u001b[0m\u001b[0;34m:\u001b[0m\u001b[0;34m\u001b[0m\u001b[0;34m\u001b[0m\u001b[0m\n\u001b[1;32m      7\u001b[0m          \u001b[0mname\u001b[0m\u001b[0;34m=\u001b[0m\u001b[0minput\u001b[0m\u001b[0;34m(\u001b[0m\u001b[0;34m\"Enter name: \"\u001b[0m\u001b[0;34m)\u001b[0m\u001b[0;34m\u001b[0m\u001b[0;34m\u001b[0m\u001b[0m\n",
            "\u001b[0;31mValueError\u001b[0m: invalid literal for int() with base 10: '3\\\\'"
          ]
        }
      ]
    },
    {
      "cell_type": "markdown",
      "source": [
        "**6.\tConditionals (if, elif, else)**\n",
        "\n",
        "In Python, conditional statements allow your code to make decisions.\n",
        "\n",
        "💡 What Are Conditionals?\n",
        "\n",
        "They help your program execute certain code blocks only when specific conditions are true.\n",
        "\n",
        "✅ Syntax :\n",
        "\n",
        "if condition:\n",
        "    # Code runs if condition is True\n",
        "elif another_condition:\n",
        "    # Runs if previous conditions were False, this one is True\n",
        "else:\n",
        "    # Runs if none of the above conditions are True\n"
      ],
      "metadata": {
        "id": "-ooKF4Evn8oK"
      }
    },
    {
      "cell_type": "code",
      "source": [
        "age = 18\n",
        "\n",
        "if age >= 18:\n",
        "    print(\"You’re an adult.\")\n",
        "elif age > 13:\n",
        "    print(\"You’re a teenager.\")\n",
        "else:\n",
        "    print(\"You’re a child.\")\n"
      ],
      "metadata": {
        "colab": {
          "base_uri": "https://localhost:8080/"
        },
        "id": "lcf06t4inDj0",
        "outputId": "8013aeb4-6212-4bd9-c08d-5958f53cec1f"
      },
      "execution_count": null,
      "outputs": [
        {
          "output_type": "stream",
          "name": "stdout",
          "text": [
            "You’re an adult.\n"
          ]
        }
      ]
    },
    {
      "cell_type": "code",
      "source": [
        "#Guess the Number Game\n",
        "import random\n",
        "number=random.randint(1, 10)\n",
        "guess=int(input('Guess a number between 1 to 10 : '))\n",
        "if guess==number:\n",
        "    print(\"Correct!, you gussed correctly...\")\n",
        "elif guess<number:\n",
        "    print(\"Too low.. Try again\")\n",
        "else:\n",
        "    print(\"Too high.. Try again..\")\n",
        "\n",
        "print(f\"Correct number is {number} \")\n"
      ],
      "metadata": {
        "colab": {
          "base_uri": "https://localhost:8080/"
        },
        "id": "m3hauRTHoM5O",
        "outputId": "e43c0f3e-6dc1-449b-88a5-0b67590c034f"
      },
      "execution_count": null,
      "outputs": [
        {
          "output_type": "stream",
          "name": "stdout",
          "text": [
            "Guess a number between 1 to 10 : 6\n",
            "Too high.. Try again..\n",
            "Correct number is 4 \n"
          ]
        }
      ]
    },
    {
      "cell_type": "markdown",
      "source": [
        "**7.\tLoops in Python (for and while)**\n",
        "\n",
        "Loops are one of the most powerful tools in programming. They help us repeat tasks without writing repetitive code.\n",
        "\n",
        "🔁 for Loop\n",
        "\n",
        "Use a for loop when you know how many times you want to repeat something.\n",
        "\n",
        "for i in range(5):\n",
        "    print(i)\n",
        "\n",
        "🟢 Output :\n",
        "\n",
        "0\n",
        "1\n",
        "2\n",
        "3\n",
        "4\n",
        "\n",
        "✅ range(5) creates a sequence from 0 to 4\n",
        "✅ i takes each value one by one\n",
        "\n",
        "🔁 while Loop\n",
        "\n",
        "Use a while loop when you want to repeat until a condition is no longer true.\n",
        "\n",
        "count = 1\n",
        "while count <= 5:\n",
        "    print(count)\n",
        "    count += 1\n",
        "\n",
        "🟢 Output :\n",
        "\n",
        "1\n",
        "2\n",
        "3\n",
        "4\n",
        "5\n"
      ],
      "metadata": {
        "id": "cxjC7AUYoYb0"
      }
    },
    {
      "cell_type": "code",
      "source": [
        " #Multiplication Table Generator\n",
        " number=int(input(\"enter a number\"))\n",
        " print(f\"***MULTIPLICAATION TABLE FOR {number}***\")\n",
        " for i in range(1,11):\n",
        "     print(f\"{i} * {number}= {i*number}\")"
      ],
      "metadata": {
        "colab": {
          "base_uri": "https://localhost:8080/"
        },
        "id": "uSDh0GX5ochi",
        "outputId": "6fe523e9-f937-445b-c18d-ae842946975e"
      },
      "execution_count": null,
      "outputs": [
        {
          "output_type": "stream",
          "name": "stdout",
          "text": [
            "enter a number5\n",
            "***MULTIPLICAATION TABLE FOR 5***\n",
            "1 * 5= 5\n",
            "2 * 5= 10\n",
            "3 * 5= 15\n",
            "4 * 5= 20\n",
            "5 * 5= 25\n",
            "6 * 5= 30\n",
            "7 * 5= 35\n",
            "8 * 5= 40\n",
            "9 * 5= 45\n",
            "10 * 5= 50\n"
          ]
        }
      ]
    },
    {
      "cell_type": "code",
      "source": [
        "#2. Pattern Printer (Staircase of Stars)\n",
        "rows=5\n",
        "for i in range(1,rows+1):\n",
        "        print(\"*\"*i)"
      ],
      "metadata": {
        "colab": {
          "base_uri": "https://localhost:8080/"
        },
        "id": "1OYLgd3zomjB",
        "outputId": "6eff9895-5648-4fd7-990f-d578b0384590"
      },
      "execution_count": null,
      "outputs": [
        {
          "output_type": "stream",
          "name": "stdout",
          "text": [
            "*\n",
            "**\n",
            "***\n",
            "****\n",
            "*****\n"
          ]
        }
      ]
    }
  ]
}