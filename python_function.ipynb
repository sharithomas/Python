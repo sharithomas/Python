{
  "nbformat": 4,
  "nbformat_minor": 0,
  "metadata": {
    "colab": {
      "provenance": [],
      "authorship_tag": "ABX9TyO0GKwfgahrzHfjs9xw1bTr",
      "include_colab_link": true
    },
    "kernelspec": {
      "name": "python3",
      "display_name": "Python 3"
    },
    "language_info": {
      "name": "python"
    }
  },
  "cells": [
    {
      "cell_type": "markdown",
      "metadata": {
        "id": "view-in-github",
        "colab_type": "text"
      },
      "source": [
        "<a href=\"https://colab.research.google.com/github/sharithomas/Python/blob/main/python_function.ipynb\" target=\"_parent\"><img src=\"https://colab.research.google.com/assets/colab-badge.svg\" alt=\"Open In Colab\"/></a>"
      ]
    },
    {
      "cell_type": "markdown",
      "source": [
        "## **Functions in Python**\n",
        "\n",
        "**What is a Function? **\n",
        "\n",
        "A function is a reusable block of code that performs a specific task.\n",
        "\n",
        "Think of it as a machine: you give it some input (arguments), it processes something, and then gives you output.\n",
        "\n",
        "✅ Defining a Function\n",
        "\n",
        "Here’s the basic structure:\n",
        "\n",
        "def greet():\n",
        "    print(\"Hello, Python learner!\")\n",
        "\n",
        "To call or run the function:\n",
        "\n",
        "greet()\n",
        "\n",
        "🟢 Output:\n",
        "\n",
        "Hello, Python learner!\n",
        "\n",
        "\n",
        "✅ Function with Parameters\n",
        "\n",
        "You can make your function accept values using parameters:\n",
        "\n",
        "def greet(name):\n",
        "    print(f\"Hello, {name}!\")\n",
        "    \n",
        "greet(\"Sam\")\n",
        "\n",
        "🟢 Output\n",
        "Hello, Sam!\n",
        "\n",
        "\n",
        "✅ Return Values\n",
        "\n",
        "Functions can return values instead of just printing them:\n",
        "\n",
        "def add(a, b):\n",
        "    return a + b\n",
        "\n",
        "result = add(3, 5)\n",
        "print(result)\n",
        "\n",
        "🟢 Output: 8\n"
      ],
      "metadata": {
        "id": "QaBrCqbRqRCg"
      }
    },
    {
      "cell_type": "code",
      "execution_count": null,
      "metadata": {
        "colab": {
          "base_uri": "https://localhost:8080/"
        },
        "id": "wNdBXMSpqLA1",
        "outputId": "9f883225-2755-483d-b66f-f2e7a2a74a98"
      },
      "outputs": [
        {
          "output_type": "stream",
          "name": "stdout",
          "text": [
            "Enter  a number for prime number check: 17\n",
            "17 is prime\n"
          ]
        }
      ],
      "source": [
        "#Prime Number Checker\n",
        "def prime_check(num):\n",
        "    flag=0\n",
        "    for i in range(2,int(num**0.5)+1):\n",
        "        if num%i!=0:\n",
        "            continue\n",
        "        else:\n",
        "            flag=1\n",
        "\n",
        "    if flag==1:\n",
        "        return False\n",
        "    else:\n",
        "        return True\n",
        "\n",
        "number=int(input(\"Enter  a number for prime number check: \"))\n",
        "if prime_check(number):\n",
        "    print(f\"{number} is prime\")\n",
        "else:\n",
        "    print(f\"{number} is not prime\")"
      ]
    },
    {
      "cell_type": "markdown",
      "source": [
        "# **Function Arguments in Python **\n",
        "\n",
        "Why are Arguments Important?\n",
        "\n",
        "Arguments allow us to pass data into a function so it can act on different values — making the function dynamic instead of static.\n",
        "\n",
        "✅ Types of Function Arguments\n",
        "\n",
        "1. Positional Arguments\n",
        "\n",
        "These are the most common — the order matters.\n",
        "\n",
        "def greet(name, age):\n",
        "    print(f\"{name} is {age} years old.\")\n",
        "\n",
        "greet(\"Alex\", 25)  \n",
        "\n",
        "\n",
        "2. Keyword Arguments\n",
        "\n",
        "You specify the name of the argument, so order doesn’t matter.\n",
        "\n",
        "greet(age=25, name=\"Alex\")\n",
        "\n",
        "\n",
        "3. Default Arguments\n",
        "\n",
        "Provide a default value so the argument becomes optional.\n",
        "In Python, parameters with default values must come after non-default ones\n",
        "\n",
        "def greet(name, city=\"Delhi\"):\n",
        "    print(f\"{name} is from {city}\")\n",
        "\n",
        "greet(\"Riya\")             # Uses default city\n",
        "greet(\"Riya\", \"Mumbai\")   # Overrides default\n",
        "\n",
        "\n",
        "4. Variable-length Arguments\n",
        "\n",
        "*args for multiple positional values (tuple)\n",
        "\n",
        "**kwargs for multiple keyword values (dictionary)\n",
        "\n"
      ],
      "metadata": {
        "id": "UmjAHUUErB4X"
      }
    },
    {
      "cell_type": "code",
      "source": [
        "def total(*numbers):\n",
        "    return sum(numbers)\n",
        "\n",
        "print(total(2, 4, 6))  # Outputs: 12\n"
      ],
      "metadata": {
        "colab": {
          "base_uri": "https://localhost:8080/"
        },
        "id": "imMrXrEYrGOP",
        "outputId": "154dd071-5e9c-4c68-92c2-1221496b7c6f"
      },
      "execution_count": null,
      "outputs": [
        {
          "output_type": "stream",
          "name": "stdout",
          "text": [
            "12\n"
          ]
        }
      ]
    },
    {
      "cell_type": "code",
      "source": [
        "\n",
        "def display_info(**data):\n",
        "    for key, value in data.items():\n",
        "        print(f\"{key} = {value}\")\n",
        "\n",
        "display_info(name=\"John\", age=30)\n"
      ],
      "metadata": {
        "colab": {
          "base_uri": "https://localhost:8080/"
        },
        "id": "JuXOXdiVrWyf",
        "outputId": "a9aa46d3-5c19-4e61-df1d-c6321a740125"
      },
      "execution_count": null,
      "outputs": [
        {
          "output_type": "stream",
          "name": "stdout",
          "text": [
            "name = John\n",
            "age = 30\n"
          ]
        }
      ]
    },
    {
      "cell_type": "code",
      "source": [
        "#Tip Calculator with Tax\n",
        "\n",
        "def calculate_total(bill, tip_percent=10, tax_percent=5):\n",
        "    tip = bill * (tip_percent / 100)\n",
        "    tax = bill * (tax_percent / 100)\n",
        "    return bill + tip + tax\n",
        "\n",
        "amount = float(input(\"Enter bill amount: \"))\n",
        "total_amount = calculate_total(amount, tip_percent=15)\n",
        "print(f\"Total Amount to Pay: ₹{total_amount:.2f}\")\n",
        "\n"
      ],
      "metadata": {
        "colab": {
          "base_uri": "https://localhost:8080/"
        },
        "id": "SVF8u1_IrfQe",
        "outputId": "5546ed94-c1b2-459d-eac0-92c36ae78105"
      },
      "execution_count": null,
      "outputs": [
        {
          "output_type": "stream",
          "name": "stdout",
          "text": [
            "Enter bill amount: 10000\n",
            "Total Amount to Pay: ₹12000.00\n"
          ]
        }
      ]
    },
    {
      "cell_type": "code",
      "source": [
        "# function call another function\n",
        "def add(a,b):\n",
        "    return (a+b)\n",
        "add(1,2)"
      ],
      "metadata": {
        "colab": {
          "base_uri": "https://localhost:8080/"
        },
        "id": "qhX4bO5HvkET",
        "outputId": "e695eee5-a589-47d5-e600-4c627a75c377"
      },
      "execution_count": null,
      "outputs": [
        {
          "output_type": "execute_result",
          "data": {
            "text/plain": [
              "3"
            ]
          },
          "metadata": {},
          "execution_count": 10
        }
      ]
    },
    {
      "cell_type": "code",
      "source": [
        "# function call another function\n",
        "def add(a,b):\n",
        "    return (a+b)\n",
        "add(1,2)\n",
        "def sub(a,b):  #sub() call add()\n",
        "    e=add(a,b)\n",
        "    return (e,a-b)\n",
        "sub(2,3)"
      ],
      "metadata": {
        "colab": {
          "base_uri": "https://localhost:8080/"
        },
        "id": "euz7tVIevdhi",
        "outputId": "ba5ffb88-02e8-41c6-811d-d10707595d62"
      },
      "execution_count": null,
      "outputs": [
        {
          "output_type": "execute_result",
          "data": {
            "text/plain": [
              "(5, -1)"
            ]
          },
          "metadata": {},
          "execution_count": 11
        }
      ]
    },
    {
      "cell_type": "markdown",
      "source": [
        "**Recursion Basics**\n",
        "\n",
        "🤔 What is Recursion?\n",
        "\n",
        "Recursion is when a function calls itself to solve smaller parts of a problem — ideal for tasks that can be broken down into repetitive subproblems.\n",
        "\n",
        "✅ Basic Recursive Structure\n",
        "\n",
        "def function_name():\n",
        "    # base condition\n",
        "    if condition:\n",
        "        return something\n",
        "    else:\n",
        "        return function_name()  # recursive call\n",
        "\n",
        "Without a base condition, the function will keep calling itself forever — causing a RecursionError.\n"
      ],
      "metadata": {
        "id": "jSRx42fLrqo7"
      }
    },
    {
      "cell_type": "code",
      "source": [
        "##Factorial & Fibonacci Calculator\n",
        "def factorial(n):\n",
        "    return 1 if n<=1 else n*factorial(n-1)\n",
        "\n",
        "def fibannoci(n):\n",
        "    if n<=1:\n",
        "        return n\n",
        "    else:\n",
        "        return fibannoci(n - 1) + fibannoci(n - 2)\n",
        "\n",
        "number=int(input(\"Enter a number: \"))\n",
        "print(\"Factorial: \",factorial(number))\n",
        "print(\"Fibannoci: \")\n",
        "for i in range(number):\n",
        "    print(fibannoci(i))\n",
        "\n",
        "\n"
      ],
      "metadata": {
        "colab": {
          "base_uri": "https://localhost:8080/"
        },
        "id": "00Jh_l2fr7h8",
        "outputId": "4f09e02e-a771-4ff0-81ca-082a4a0bf78c"
      },
      "execution_count": null,
      "outputs": [
        {
          "output_type": "stream",
          "name": "stdout",
          "text": [
            "Enter a number: 5\n",
            "Factorial:  120\n",
            "Fibannoci: \n",
            "0\n",
            "1\n",
            "1\n",
            "2\n",
            "3\n"
          ]
        }
      ]
    },
    {
      "cell_type": "markdown",
      "source": [
        "**Lambda, map(), and filter()**\n",
        "🧠 What is a Lambda Function?\n",
        "\n",
        "A lambda function is an anonymous function written in one line using the lambda keyword.\n",
        "\n",
        "✅ Syntax:\n",
        "lambda arguments: expression\n"
      ],
      "metadata": {
        "id": "D9dAuuZzsVkm"
      }
    },
    {
      "cell_type": "code",
      "source": [
        "square = lambda x: x ** 2\n",
        "print(square(5))  # Output: 25\n"
      ],
      "metadata": {
        "colab": {
          "base_uri": "https://localhost:8080/"
        },
        "id": "VbUXqZu8sZAn",
        "outputId": "13e55b6c-71fb-4396-aa94-059fba2d9ae4"
      },
      "execution_count": null,
      "outputs": [
        {
          "output_type": "stream",
          "name": "stdout",
          "text": [
            "25\n"
          ]
        }
      ]
    },
    {
      "cell_type": "markdown",
      "source": [
        "🧩 map() — Apply a Function to All Items\n",
        "\n",
        "Takes a function and an iterable, and applies the function to every item in the iterable.\n"
      ],
      "metadata": {
        "id": "Iz0Sg3IFsggd"
      }
    },
    {
      "cell_type": "code",
      "source": [
        "nums = [1, 2, 3, 4]\n",
        "squares = list(map(lambda x: x ** 2, nums))\n",
        "print(squares)"
      ],
      "metadata": {
        "colab": {
          "base_uri": "https://localhost:8080/"
        },
        "id": "gVNl1rW2shm6",
        "outputId": "ab1faebc-9f8e-40d7-d046-bbcf6a1d6e80"
      },
      "execution_count": null,
      "outputs": [
        {
          "output_type": "stream",
          "name": "stdout",
          "text": [
            "[1, 4, 9, 16]\n"
          ]
        }
      ]
    },
    {
      "cell_type": "markdown",
      "source": [
        "filter() — Filter Items Based on a Condition\n",
        "\n",
        "Filters the iterable by applying a function that returns True/False.\n"
      ],
      "metadata": {
        "id": "4IsujIxVstq8"
      }
    },
    {
      "cell_type": "code",
      "source": [
        "nums = [1, 2, 3, 4, 5, 6]\n",
        "even = list(filter(lambda x: x % 2 == 0, nums))\n",
        "print(even)  # Output: [2, 4, 6]\n"
      ],
      "metadata": {
        "colab": {
          "base_uri": "https://localhost:8080/"
        },
        "id": "oBmJV4VFsubL",
        "outputId": "dd854cdd-2f91-4a3d-9c80-8eb4866e0d38"
      },
      "execution_count": null,
      "outputs": [
        {
          "output_type": "stream",
          "name": "stdout",
          "text": [
            "[2, 4, 6]\n"
          ]
        }
      ]
    },
    {
      "cell_type": "markdown",
      "source": [
        "The **reduce() function **in Python is used to reduce a sequence of elements into a single value by repeatedly applying a binary function (a function that takes two arguments) to the elements of the sequence.\n",
        "\n",
        "It is part of the functools module, so you must import it before using."
      ],
      "metadata": {
        "id": "SKwalw9mw8x9"
      }
    },
    {
      "cell_type": "code",
      "source": [
        "from functools import reduce\n",
        "list1 = [1,2,3,4]\n",
        "add=lambda x,y:x+y\n",
        "reduce(add,list1)"
      ],
      "metadata": {
        "colab": {
          "base_uri": "https://localhost:8080/"
        },
        "id": "EDYcN92sw75f",
        "outputId": "a48409b7-9cf1-4d13-820e-cf7938464740"
      },
      "execution_count": null,
      "outputs": [
        {
          "output_type": "execute_result",
          "data": {
            "text/plain": [
              "10"
            ]
          },
          "metadata": {},
          "execution_count": 13
        }
      ]
    },
    {
      "cell_type": "code",
      "source": [
        "lst=[1,2,3]\n",
        "diff=lambda x,y:x-y\n",
        "reduce(diff,lst)"
      ],
      "metadata": {
        "id": "QJIWzoqJxLo0",
        "outputId": "e49a1afa-fee7-4a75-a285-cd558def1b55",
        "colab": {
          "base_uri": "https://localhost:8080/"
        }
      },
      "execution_count": null,
      "outputs": [
        {
          "output_type": "execute_result",
          "data": {
            "text/plain": [
              "-4"
            ]
          },
          "metadata": {},
          "execution_count": 14
        }
      ]
    },
    {
      "cell_type": "code",
      "source": [
        "max1= lambda x,y:x if x>y else y\n",
        "reduce(max1,list1)"
      ],
      "metadata": {
        "id": "PGGCmKgAxO31",
        "outputId": "bc36b1c3-a7ff-4fef-ef86-f197d3d934d6",
        "colab": {
          "base_uri": "https://localhost:8080/"
        }
      },
      "execution_count": null,
      "outputs": [
        {
          "output_type": "execute_result",
          "data": {
            "text/plain": [
              "4"
            ]
          },
          "metadata": {},
          "execution_count": 15
        }
      ]
    }
  ]
}