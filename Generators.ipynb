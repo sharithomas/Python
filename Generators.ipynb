{
  "nbformat": 4,
  "nbformat_minor": 0,
  "metadata": {
    "colab": {
      "provenance": [],
      "authorship_tag": "ABX9TyN6JLVdm/J+5scXHJSgq3JJ",
      "include_colab_link": true
    },
    "kernelspec": {
      "name": "python3",
      "display_name": "Python 3"
    },
    "language_info": {
      "name": "python"
    }
  },
  "cells": [
    {
      "cell_type": "markdown",
      "metadata": {
        "id": "view-in-github",
        "colab_type": "text"
      },
      "source": [
        "<a href=\"https://colab.research.google.com/github/sharithomas/Python/blob/main/Generators.ipynb\" target=\"_parent\"><img src=\"https://colab.research.google.com/assets/colab-badge.svg\" alt=\"Open In Colab\"/></a>"
      ]
    },
    {
      "cell_type": "markdown",
      "source": [
        "In Python, a** generator **is a special type of iterator that allows you to generate values on the fly rather than storing them all in memory at once. This is memory-efficient and great for working with large data or infinite sequences.\n",
        "\n",
        "**🌀 What is a Generator?**\n",
        "A generator is created using:\n",
        "\n",
        "A function with the yield keyword, or\n",
        "\n",
        "A generator expression (similar to a list comprehension but with parentheses).\n",
        "\n",
        "✅ 1. Generator Function (using yield)\n",
        "* yield pauses the function, saving its state for the next call.\n",
        "*   Unlike return, yield doesn't exit the function completely.\n",
        "\n",
        "\n",
        "\n"
      ],
      "metadata": {
        "id": "9VvBLVAd1n9y"
      }
    },
    {
      "cell_type": "code",
      "source": [
        "def count_up_to(n):\n",
        "    count = 1\n",
        "    while count <= n:\n",
        "        yield count\n",
        "        count += 1\n",
        "\n",
        "gen = count_up_to(5)\n",
        "for number in gen:\n",
        "    print(number)\n"
      ],
      "metadata": {
        "colab": {
          "base_uri": "https://localhost:8080/"
        },
        "id": "bZqVabor1niz",
        "outputId": "d90c1d0a-96f9-4f35-c79a-1b7d092bcdc8"
      },
      "execution_count": 3,
      "outputs": [
        {
          "output_type": "stream",
          "name": "stdout",
          "text": [
            "1\n",
            "2\n",
            "3\n",
            "4\n",
            "5\n"
          ]
        }
      ]
    },
    {
      "cell_type": "markdown",
      "source": [
        "✅ 2. Generator Expression\n",
        "*   Like list comprehension, but uses **()instead of[]`.\n",
        "* More memory efficient because it doesn't build the whole list.\n",
        "\n",
        "\n",
        "\n",
        "\n"
      ],
      "metadata": {
        "id": "v1eYb5_Z3H0N"
      }
    },
    {
      "cell_type": "code",
      "execution_count": 4,
      "metadata": {
        "colab": {
          "base_uri": "https://localhost:8080/"
        },
        "id": "3EID0Ate1WkO",
        "outputId": "4d0d21a1-65e7-4207-c3cd-10650e957c64"
      },
      "outputs": [
        {
          "output_type": "stream",
          "name": "stdout",
          "text": [
            "0\n",
            "1\n",
            "4\n",
            "9\n",
            "16\n"
          ]
        }
      ],
      "source": [
        "gen = (x*x for x in range(5))\n",
        "for val in gen:\n",
        "    print(val)"
      ]
    },
    {
      "cell_type": "code",
      "source": [
        "gen"
      ],
      "metadata": {
        "colab": {
          "base_uri": "https://localhost:8080/"
        },
        "id": "6ClaZ9Vv23Bk",
        "outputId": "e661ae61-df32-413f-f505-f90dcadc4fea"
      },
      "execution_count": 5,
      "outputs": [
        {
          "output_type": "execute_result",
          "data": {
            "text/plain": [
              "<generator object <genexpr> at 0x7ac3f02ee9b0>"
            ]
          },
          "metadata": {},
          "execution_count": 5
        }
      ]
    },
    {
      "cell_type": "markdown",
      "source": [
        "![Screenshot 2025-06-19 115651.jpg](data:image/jpeg;base64,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)"
      ],
      "metadata": {
        "id": "o80POXYf3_af"
      }
    },
    {
      "cell_type": "code",
      "source": [
        "#  Generate a fibonnaci sequence up to n\n",
        "\n",
        "def gen_fibon(n):\n",
        "    a = 1\n",
        "    b = 1\n",
        "    for i in range(n):\n",
        "        yield a\n",
        "        a,b = b,a+b\n",
        "\n",
        "for num in gen_fibon(10):\n",
        "    print(num)\n",
        ""
      ],
      "metadata": {
        "colab": {
          "base_uri": "https://localhost:8080/"
        },
        "id": "FwUKYoKi4D4u",
        "outputId": "66390cfe-9008-494c-c61c-c1cdcc1281ec"
      },
      "execution_count": 6,
      "outputs": [
        {
          "output_type": "stream",
          "name": "stdout",
          "text": [
            "1\n",
            "1\n",
            "2\n",
            "3\n",
            "5\n",
            "8\n",
            "13\n",
            "21\n",
            "34\n",
            "55\n"
          ]
        }
      ]
    },
    {
      "cell_type": "code",
      "source": [
        "s = 'hello'\n",
        "\n",
        "#Iterate over string\n",
        "for let in s:\n",
        "    print(let)\n",
        "next(s)"
      ],
      "metadata": {
        "colab": {
          "base_uri": "https://localhost:8080/",
          "height": 263
        },
        "id": "k57Tuvf64m9W",
        "outputId": "bc853848-ffd4-4a86-a93b-9731908ce946"
      },
      "execution_count": 7,
      "outputs": [
        {
          "output_type": "stream",
          "name": "stdout",
          "text": [
            "h\n",
            "e\n",
            "l\n",
            "l\n",
            "o\n"
          ]
        },
        {
          "output_type": "error",
          "ename": "TypeError",
          "evalue": "'str' object is not an iterator",
          "traceback": [
            "\u001b[0;31m---------------------------------------------------------------------------\u001b[0m",
            "\u001b[0;31mTypeError\u001b[0m                                 Traceback (most recent call last)",
            "\u001b[0;32m/tmp/ipython-input-7-2795333580.py\u001b[0m in \u001b[0;36m<cell line: 0>\u001b[0;34m()\u001b[0m\n\u001b[1;32m      4\u001b[0m \u001b[0;32mfor\u001b[0m \u001b[0mlet\u001b[0m \u001b[0;32min\u001b[0m \u001b[0ms\u001b[0m\u001b[0;34m:\u001b[0m\u001b[0;34m\u001b[0m\u001b[0;34m\u001b[0m\u001b[0m\n\u001b[1;32m      5\u001b[0m     \u001b[0mprint\u001b[0m\u001b[0;34m(\u001b[0m\u001b[0mlet\u001b[0m\u001b[0;34m)\u001b[0m\u001b[0;34m\u001b[0m\u001b[0;34m\u001b[0m\u001b[0m\n\u001b[0;32m----> 6\u001b[0;31m \u001b[0mnext\u001b[0m\u001b[0;34m(\u001b[0m\u001b[0ms\u001b[0m\u001b[0;34m)\u001b[0m\u001b[0;34m\u001b[0m\u001b[0;34m\u001b[0m\u001b[0m\n\u001b[0m",
            "\u001b[0;31mTypeError\u001b[0m: 'str' object is not an iterator"
          ]
        }
      ]
    },
    {
      "cell_type": "code",
      "source": [
        "list10=range(0,10)\n",
        "next(list10)"
      ],
      "metadata": {
        "colab": {
          "base_uri": "https://localhost:8080/",
          "height": 158
        },
        "id": "S2gtrKy3493u",
        "outputId": "9eb02db6-3ccb-410d-a9c6-28b3eb072095"
      },
      "execution_count": 8,
      "outputs": [
        {
          "output_type": "error",
          "ename": "TypeError",
          "evalue": "'range' object is not an iterator",
          "traceback": [
            "\u001b[0;31m---------------------------------------------------------------------------\u001b[0m",
            "\u001b[0;31mTypeError\u001b[0m                                 Traceback (most recent call last)",
            "\u001b[0;32m/tmp/ipython-input-8-3659397625.py\u001b[0m in \u001b[0;36m<cell line: 0>\u001b[0;34m()\u001b[0m\n\u001b[1;32m      1\u001b[0m \u001b[0mlist10\u001b[0m\u001b[0;34m=\u001b[0m\u001b[0mrange\u001b[0m\u001b[0;34m(\u001b[0m\u001b[0;36m0\u001b[0m\u001b[0;34m,\u001b[0m\u001b[0;36m10\u001b[0m\u001b[0;34m)\u001b[0m\u001b[0;34m\u001b[0m\u001b[0;34m\u001b[0m\u001b[0m\n\u001b[0;32m----> 2\u001b[0;31m \u001b[0mnext\u001b[0m\u001b[0;34m(\u001b[0m\u001b[0mlist10\u001b[0m\u001b[0;34m)\u001b[0m\u001b[0;34m\u001b[0m\u001b[0;34m\u001b[0m\u001b[0m\n\u001b[0m",
            "\u001b[0;31mTypeError\u001b[0m: 'range' object is not an iterator"
          ]
        }
      ]
    },
    {
      "cell_type": "code",
      "source": [
        "s_iter = iter(s)\n",
        "next(s_iter)\n"
      ],
      "metadata": {
        "colab": {
          "base_uri": "https://localhost:8080/",
          "height": 35
        },
        "id": "K4EjxBIK4lGS",
        "outputId": "5d367754-49b9-4c47-be09-9a71a6b7f9d0"
      },
      "execution_count": 9,
      "outputs": [
        {
          "output_type": "execute_result",
          "data": {
            "text/plain": [
              "'h'"
            ],
            "application/vnd.google.colaboratory.intrinsic+json": {
              "type": "string"
            }
          },
          "metadata": {},
          "execution_count": 9
        }
      ]
    },
    {
      "cell_type": "code",
      "source": [
        "r_iter=iter(range(0,10))\n",
        "next(r_iter)"
      ],
      "metadata": {
        "colab": {
          "base_uri": "https://localhost:8080/"
        },
        "id": "zC3camo-5F0C",
        "outputId": "e3ca9f6a-0730-4a4b-c3ad-16f714ad69ef"
      },
      "execution_count": 10,
      "outputs": [
        {
          "output_type": "execute_result",
          "data": {
            "text/plain": [
              "0"
            ]
          },
          "metadata": {},
          "execution_count": 10
        }
      ]
    }
  ]
}