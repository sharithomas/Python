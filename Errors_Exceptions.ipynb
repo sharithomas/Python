{
  "nbformat": 4,
  "nbformat_minor": 0,
  "metadata": {
    "colab": {
      "provenance": [],
      "authorship_tag": "ABX9TyMRe39MI9ss9oWO8dlIhLvr",
      "include_colab_link": true
    },
    "kernelspec": {
      "name": "python3",
      "display_name": "Python 3"
    },
    "language_info": {
      "name": "python"
    }
  },
  "cells": [
    {
      "cell_type": "markdown",
      "metadata": {
        "id": "view-in-github",
        "colab_type": "text"
      },
      "source": [
        "<a href=\"https://colab.research.google.com/github/sharithomas/Python/blob/main/Errors_Exceptions.ipynb\" target=\"_parent\"><img src=\"https://colab.research.google.com/assets/colab-badge.svg\" alt=\"Open In Colab\"/></a>"
      ]
    },
    {
      "cell_type": "markdown",
      "source": [
        "**Error Handling in Python **\n",
        "\n",
        "When something unexpected happens — like dividing by zero or reading a missing file — Python raises an exception.\n",
        "If not handled, your program crashes.\n",
        "\n",
        "✅ The try...except Block\n",
        "\n",
        "try:\n",
        "    # risky code\n",
        "\n",
        "except SomeError:\n",
        "    # handle error\n"
      ],
      "metadata": {
        "id": "4dGcWaT-dmbX"
      }
    },
    {
      "cell_type": "code",
      "source": [
        "try:\n",
        "    x = int(input(\"Enter a number: \"))\n",
        "    print(10 / x)\n",
        "except ZeroDivisionError:\n",
        "    print(\"You can't divide by zero!\")\n",
        "except ValueError:\n",
        "    print(\"Please enter a valid number.\")"
      ],
      "metadata": {
        "colab": {
          "base_uri": "https://localhost:8080/"
        },
        "id": "aTa0CkaHeMZL",
        "outputId": "0c8d24c3-24ed-40e7-b564-fadd1d6e516c"
      },
      "execution_count": 2,
      "outputs": [
        {
          "output_type": "stream",
          "name": "stdout",
          "text": [
            "Enter a number: 0\n",
            "You can't divide by zero!\n"
          ]
        }
      ]
    },
    {
      "cell_type": "markdown",
      "source": [
        "🔹 else and finally\n",
        "\n",
        "else:\n",
        "    runs if no exception was raised\n",
        "\n",
        "finally:\n",
        "     runs no matter what (cleanup code)\n"
      ],
      "metadata": {
        "id": "Ef7T4-8senZK"
      }
    },
    {
      "cell_type": "code",
      "source": [
        "try:\n",
        "    num = int(input(\"Enter number: \"))\n",
        "except ValueError:\n",
        "    print(\"Not a number!\")\n",
        "else:\n",
        "    print(\"Square is\", num ** 2)\n",
        "finally:\n",
        "    print(\"Done.\")"
      ],
      "metadata": {
        "colab": {
          "base_uri": "https://localhost:8080/"
        },
        "id": "7slYkGiueq99",
        "outputId": "6e88c491-6dc5-4c5f-b1da-329fe21c96f6"
      },
      "execution_count": 4,
      "outputs": [
        {
          "output_type": "stream",
          "name": "stdout",
          "text": [
            "Enter number: 2\n",
            "Square is 4\n",
            "Done.\n"
          ]
        }
      ]
    },
    {
      "cell_type": "markdown",
      "source": [
        "Common Exceptions:\n",
        "\n",
        "- ZeroDivisionError – dividing by zero\n",
        "\n",
        "- ValueError – invalid value (e.g., int(\"abc\"))\n",
        "\n",
        "- TypeError – wrong data type\n",
        "\n",
        "- FileNotFoundError – file doesn't exist\n",
        "\n",
        "- IndexError – index out of range\n",
        "\n"
      ],
      "metadata": {
        "id": "5yC3vJDKfUcU"
      }
    },
    {
      "cell_type": "code",
      "execution_count": 6,
      "metadata": {
        "colab": {
          "base_uri": "https://localhost:8080/"
        },
        "id": "9Z06mF5GdcZW",
        "outputId": "9091b32a-a4cb-4f01-9034-8ee6d24dd9cd"
      },
      "outputs": [
        {
          "output_type": "stream",
          "name": "stdout",
          "text": [
            "Enter an integer: d\n",
            "That's not a valid integer!\n",
            "Enter an integer: g\n",
            "That's not a valid integer!\n",
            "Enter an integer: 5\n",
            "You entered: 5\n"
          ]
        }
      ],
      "source": [
        "#Mini Project: Safe Input Reader\n",
        "\n",
        "'''A safe input reader is a function or piece of code that asks the user for input — but doesn’t crash if the user types something invalid.'''\n",
        "\n",
        "def get_integer(prompt):\n",
        "    try:\n",
        "        return int(input(prompt))\n",
        "    except ValueError:\n",
        "        print(\"That's not a valid integer!\")\n",
        "        return None\n",
        "\n",
        "num = None\n",
        "while num is None:\n",
        "    num = get_integer(\"Enter an integer: \")\n",
        "\n",
        "print(\"You entered:\", num)"
      ]
    },
    {
      "cell_type": "code",
      "source": [
        "# reading a test1 file, but the file doesnot exit. to avoid throwing errors using exceptions to handle the issue\n",
        "try:\n",
        "    f = open('test1.txt','r')\n",
        "    data=f.read()\n",
        "except IOError:\n",
        "    # This will only check for an IOError exception and then execute this print statement\n",
        "    print(\"Error: Could not find file or read data\")\n",
        "else: # else executed with try statement always\n",
        "    print(\"Content was read successfully\")\n",
        "    f.close()"
      ],
      "metadata": {
        "colab": {
          "base_uri": "https://localhost:8080/"
        },
        "id": "0k9Fb_8ch-Lb",
        "outputId": "2c2d1c47-85e6-4eab-e6ff-f161bc6b7d16"
      },
      "execution_count": 7,
      "outputs": [
        {
          "output_type": "stream",
          "name": "stdout",
          "text": [
            "Error: Could not find file or read data\n"
          ]
        }
      ]
    },
    {
      "cell_type": "code",
      "source": [
        "try:\n",
        "    f = open('test','r') # bcz test not exist it throw error and move to except block\n",
        "    data=f.read()\n",
        "except:\n",
        "    f = open('test','w+')\n",
        "    f.write(\"This line is entered in exception block in w+ mode\")\n",
        "    f.seek(0)\n",
        "    data=f.read()\n",
        "    print(data)\n",
        "    f.close()\n",
        "    # This will only check for an IOError exception and then execute this print statement\n",
        "    #print(\"Error: Could not find file or read data\")\n",
        "else:\n",
        "    print(\"Content was read successfully in try block\")\n",
        "    f.close()\n",
        ""
      ],
      "metadata": {
        "colab": {
          "base_uri": "https://localhost:8080/"
        },
        "id": "11Ssrx1eiZxY",
        "outputId": "f3a1c7b8-3a2d-478b-bcd3-86b1defff09d"
      },
      "execution_count": 8,
      "outputs": [
        {
          "output_type": "stream",
          "name": "stdout",
          "text": [
            "This line is entered in exception block in w+ mode\n"
          ]
        }
      ]
    },
    {
      "cell_type": "code",
      "source": [
        "def enter_amount():\n",
        "    while(True):\n",
        "        try:\n",
        "            amount = int(input(\"Please enter an integer amount: \"))\n",
        "        except:\n",
        "            print(\"Looks like you did not enter an integer!\")\n",
        "            continue\n",
        "        else:\n",
        "            print(\"you have entered integer amount\")\n",
        "            break\n",
        "\n",
        "        finally:\n",
        "            print(\"Finally block is executed!\")\n",
        "        #print(amount)\n",
        "        print (\"you entered amount :\", amount)\n",
        "\n",
        "enter_amount()"
      ],
      "metadata": {
        "colab": {
          "base_uri": "https://localhost:8080/"
        },
        "id": "ypw8NESKiqmL",
        "outputId": "7405b77e-5a89-4c0b-b6e8-ff59907d74ab"
      },
      "execution_count": 9,
      "outputs": [
        {
          "output_type": "stream",
          "name": "stdout",
          "text": [
            "Please enter an integer amount: d\n",
            "Looks like you did not enter an integer!\n",
            "Finally block is executed!\n",
            "Please enter an integer amount: \n",
            "Looks like you did not enter an integer!\n",
            "Finally block is executed!\n",
            "Please enter an integer amount: 234\n",
            "you have entered integer amount\n",
            "Finally block is executed!\n"
          ]
        }
      ]
    }
  ]
}